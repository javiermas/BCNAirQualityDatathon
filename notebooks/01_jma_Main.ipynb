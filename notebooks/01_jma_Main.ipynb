{
 "cells": [
  {
   "cell_type": "code",
   "execution_count": 1,
   "metadata": {},
   "outputs": [],
   "source": [
    "import pandas as pd"
   ]
  },
  {
   "cell_type": "code",
   "execution_count": 28,
   "metadata": {},
   "outputs": [],
   "source": [
    "headers_path = '/Users/b.yc0006/Cloud/BCNAirQualityDatathon/data/raw/headers_mod.csv'\n",
    "headers_obs = '/Users/b.yc0006/Cloud/BCNAirQualityDatathon/data/raw/headers_obs.csv'\n",
    "targets_path = '/Users/b.yc0006/Cloud/BCNAirQualityDatathon/data/raw/targets.csv'\n",
    "stations_path = '/Users/b.yc0006/Cloud/BCNAirQualityDatathon/data/raw/stations.csv'\n",
    "submission_path = '/Users/b.yc0006/Cloud/BCNAirQualityDatathon/data/submissions/'"
   ]
  },
  {
   "cell_type": "code",
   "execution_count": 5,
   "metadata": {},
   "outputs": [
    {
     "data": {
      "text/plain": [
       "(['lon', 'lat', 'day', 'hour', 'AirPollutant', 'Concentration'],\n",
       " ['Countrycode',\n",
       "  'Namespace',\n",
       "  'AirQualityNetwork',\n",
       "  'AirQualityStation',\n",
       "  'AirQualityStationEoICode',\n",
       "  'SamplingPoint',\n",
       "  'SamplingProcess',\n",
       "  'Sample',\n",
       "  'AirPollutant',\n",
       "  'AirPollutantCode',\n",
       "  'AveragingTime',\n",
       "  'Concentration',\n",
       "  'UnitOfMeasurement',\n",
       "  'DatetimeBegin',\n",
       "  'DatetimeEnd',\n",
       "  'Validity',\n",
       "  'Verification'])"
      ]
     },
     "execution_count": 5,
     "metadata": {},
     "output_type": "execute_result"
    }
   ],
   "source": [
    "with open(headers_path) as f:\n",
    "    mod_headers = f.readlines()[0].split()\n",
    "    \n",
    "with open(headers_obs) as f:\n",
    "    obs_headers = f.readlines()[0].split()\n",
    "    \n",
    "mod_headers, obs_headers"
   ]
  },
  {
   "cell_type": "code",
   "execution_count": 30,
   "metadata": {},
   "outputs": [],
   "source": [
    "targets = pd.read_csv(targets_path)\n",
    "stations = pd.read_csv(stations_path)"
   ]
  },
  {
   "cell_type": "code",
   "execution_count": 32,
   "metadata": {},
   "outputs": [
    {
     "name": "stdout",
     "output_type": "stream",
     "text": [
      "0.0383233532934\n"
     ]
    },
    {
     "data": {
      "text/html": [
       "<div>\n",
       "<style scoped>\n",
       "    .dataframe tbody tr th:only-of-type {\n",
       "        vertical-align: middle;\n",
       "    }\n",
       "\n",
       "    .dataframe tbody tr th {\n",
       "        vertical-align: top;\n",
       "    }\n",
       "\n",
       "    .dataframe thead th {\n",
       "        text-align: right;\n",
       "    }\n",
       "</style>\n",
       "<table border=\"1\" class=\"dataframe\">\n",
       "  <thead>\n",
       "    <tr style=\"text-align: right;\">\n",
       "      <th></th>\n",
       "      <th>date</th>\n",
       "      <th>station</th>\n",
       "      <th>target</th>\n",
       "    </tr>\n",
       "  </thead>\n",
       "  <tbody>\n",
       "    <tr>\n",
       "      <th>0</th>\n",
       "      <td>2015-01-03</td>\n",
       "      <td>ES0691A</td>\n",
       "      <td>0</td>\n",
       "    </tr>\n",
       "    <tr>\n",
       "      <th>1</th>\n",
       "      <td>2015-01-03</td>\n",
       "      <td>ES1396A</td>\n",
       "      <td>0</td>\n",
       "    </tr>\n",
       "    <tr>\n",
       "      <th>2</th>\n",
       "      <td>2015-01-03</td>\n",
       "      <td>ES1438A</td>\n",
       "      <td>0</td>\n",
       "    </tr>\n",
       "    <tr>\n",
       "      <th>3</th>\n",
       "      <td>2015-01-03</td>\n",
       "      <td>ES1480A</td>\n",
       "      <td>0</td>\n",
       "    </tr>\n",
       "    <tr>\n",
       "      <th>4</th>\n",
       "      <td>2015-01-03</td>\n",
       "      <td>ES1679A</td>\n",
       "      <td>0</td>\n",
       "    </tr>\n",
       "  </tbody>\n",
       "</table>\n",
       "</div>"
      ],
      "text/plain": [
       "         date  station  target\n",
       "0  2015-01-03  ES0691A       0\n",
       "1  2015-01-03  ES1396A       0\n",
       "2  2015-01-03  ES1438A       0\n",
       "3  2015-01-03  ES1480A       0\n",
       "4  2015-01-03  ES1679A       0"
      ]
     },
     "execution_count": 32,
     "metadata": {},
     "output_type": "execute_result"
    }
   ],
   "source": [
    "print targets['target'].mean()\n",
    "targets.head()"
   ]
  },
  {
   "cell_type": "code",
   "execution_count": 36,
   "metadata": {},
   "outputs": [],
   "source": [
    "targets['target'] = 0\n",
    "submission = targets['target']"
   ]
  },
  {
   "cell_type": "code",
   "execution_count": 40,
   "metadata": {},
   "outputs": [
    {
     "data": {
      "text/plain": [
       "0      0\n",
       "1      0\n",
       "2      0\n",
       "3      0\n",
       "4      0\n",
       "5      0\n",
       "6      0\n",
       "7      0\n",
       "8      0\n",
       "9      0\n",
       "10     0\n",
       "11     0\n",
       "12     0\n",
       "13     0\n",
       "14     0\n",
       "15     0\n",
       "16     0\n",
       "17     0\n",
       "18     0\n",
       "19     0\n",
       "20     0\n",
       "21     0\n",
       "22     0\n",
       "23     0\n",
       "24     0\n",
       "25     0\n",
       "26     0\n",
       "27     0\n",
       "28     0\n",
       "29     0\n",
       "      ..\n",
       "805    0\n",
       "806    0\n",
       "807    0\n",
       "808    0\n",
       "809    0\n",
       "810    0\n",
       "811    0\n",
       "812    0\n",
       "813    0\n",
       "814    0\n",
       "815    0\n",
       "816    0\n",
       "817    0\n",
       "818    0\n",
       "819    0\n",
       "820    0\n",
       "821    0\n",
       "822    0\n",
       "823    0\n",
       "824    0\n",
       "825    0\n",
       "826    0\n",
       "827    0\n",
       "828    0\n",
       "829    0\n",
       "830    0\n",
       "831    0\n",
       "832    0\n",
       "833    0\n",
       "834    0\n",
       "Name: target, Length: 835, dtype: int64"
      ]
     },
     "execution_count": 40,
     "metadata": {},
     "output_type": "execute_result"
    }
   ],
   "source": [
    "submission"
   ]
  },
  {
   "cell_type": "code",
   "execution_count": 42,
   "metadata": {},
   "outputs": [],
   "source": [
    "submission.to_csv(submission_path+'submission_zeros.csv', header=True, index=False)"
   ]
  },
  {
   "cell_type": "code",
   "execution_count": 12,
   "metadata": {
    "collapsed": true
   },
   "outputs": [
    {
     "data": {
      "text/html": [
       "<div>\n",
       "<style scoped>\n",
       "    .dataframe tbody tr th:only-of-type {\n",
       "        vertical-align: middle;\n",
       "    }\n",
       "\n",
       "    .dataframe tbody tr th {\n",
       "        vertical-align: top;\n",
       "    }\n",
       "\n",
       "    .dataframe thead th {\n",
       "        text-align: right;\n",
       "    }\n",
       "</style>\n",
       "<table border=\"1\" class=\"dataframe\">\n",
       "  <thead>\n",
       "    <tr style=\"text-align: right;\">\n",
       "      <th></th>\n",
       "      <th>code</th>\n",
       "      <th>name</th>\n",
       "      <th>lat</th>\n",
       "      <th>lon</th>\n",
       "      <th>height</th>\n",
       "      <th>city</th>\n",
       "      <th>country</th>\n",
       "    </tr>\n",
       "  </thead>\n",
       "  <tbody>\n",
       "    <tr>\n",
       "      <th>0</th>\n",
       "      <td>ES1480A</td>\n",
       "      <td>Barcelona (Gràcia-Sant Gervasi)</td>\n",
       "      <td>41.3987</td>\n",
       "      <td>2.15339</td>\n",
       "      <td>57</td>\n",
       "      <td>Barcelona</td>\n",
       "      <td>España</td>\n",
       "    </tr>\n",
       "    <tr>\n",
       "      <th>1</th>\n",
       "      <td>ES1856A</td>\n",
       "      <td>Barcelona (Vall d'Hebron)</td>\n",
       "      <td>41.4261</td>\n",
       "      <td>2.14799</td>\n",
       "      <td>136</td>\n",
       "      <td>Barcelona</td>\n",
       "      <td>España</td>\n",
       "    </tr>\n",
       "    <tr>\n",
       "      <th>2</th>\n",
       "      <td>ES1679A</td>\n",
       "      <td>Ciutadella</td>\n",
       "      <td>41.3864</td>\n",
       "      <td>2.18742</td>\n",
       "      <td>7</td>\n",
       "      <td>Barcelona</td>\n",
       "      <td>España</td>\n",
       "    </tr>\n",
       "    <tr>\n",
       "      <th>3</th>\n",
       "      <td>ES1438A</td>\n",
       "      <td>Barcelona (Eixample)</td>\n",
       "      <td>41.3853</td>\n",
       "      <td>2.15382</td>\n",
       "      <td>26</td>\n",
       "      <td>Barcelona</td>\n",
       "      <td>España</td>\n",
       "    </tr>\n",
       "    <tr>\n",
       "      <th>4</th>\n",
       "      <td>ES1396A</td>\n",
       "      <td>Barcelona</td>\n",
       "      <td>41.3788</td>\n",
       "      <td>2.13310</td>\n",
       "      <td>35</td>\n",
       "      <td>Barcelona</td>\n",
       "      <td>España</td>\n",
       "    </tr>\n",
       "  </tbody>\n",
       "</table>\n",
       "</div>"
      ],
      "text/plain": [
       "      code                             name      lat      lon  height  \\\n",
       "0  ES1480A  Barcelona (Gràcia-Sant Gervasi)  41.3987  2.15339      57   \n",
       "1  ES1856A        Barcelona (Vall d'Hebron)  41.4261  2.14799     136   \n",
       "2  ES1679A                       Ciutadella  41.3864  2.18742       7   \n",
       "3  ES1438A             Barcelona (Eixample)  41.3853  2.15382      26   \n",
       "4  ES1396A                        Barcelona  41.3788  2.13310      35   \n",
       "\n",
       "        city country  \n",
       "0  Barcelona  España  \n",
       "1  Barcelona  España  \n",
       "2  Barcelona  España  \n",
       "3  Barcelona  España  \n",
       "4  Barcelona  España  "
      ]
     },
     "execution_count": 12,
     "metadata": {},
     "output_type": "execute_result"
    }
   ],
   "source": [
    "stations.head()"
   ]
  },
  {
   "cell_type": "code",
   "execution_count": null,
   "metadata": {},
   "outputs": [],
   "source": []
  }
 ],
 "metadata": {
  "kernelspec": {
   "display_name": "Python 3",
   "language": "python",
   "name": "python3"
  },
  "language_info": {
   "codemirror_mode": {
    "name": "ipython",
    "version": 2
   },
   "file_extension": ".py",
   "mimetype": "text/x-python",
   "name": "python",
   "nbconvert_exporter": "python",
   "pygments_lexer": "ipython2",
   "version": "2.7.10"
  }
 },
 "nbformat": 4,
 "nbformat_minor": 2
}
