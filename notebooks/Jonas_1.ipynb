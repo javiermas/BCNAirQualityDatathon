{
 "cells": [
  {
   "cell_type": "code",
   "execution_count": 2,
   "metadata": {},
   "outputs": [
    {
     "name": "stdout",
     "output_type": "stream",
     "text": [
      "The rpy2.ipython extension is already loaded. To reload it, use:\n",
      "  %reload_ext rpy2.ipython\n"
     ]
    }
   ],
   "source": [
    "import numpy as np\n",
    "import pandas as pd\n",
    "import xgboost as xgb\n",
    "import tensorflow as tf\n",
    "import matplotlib.pyplot as plt\n",
    "%matplotlib inline\n",
    "%load_ext rpy2.ipython"
   ]
  },
  {
   "cell_type": "code",
   "execution_count": 41,
   "metadata": {},
   "outputs": [],
   "source": [
    "with open('../data/headers_mod.csv') as f:\n",
    "    mod_headers = f.readlines()[0].split()\n",
    "    \n",
    "with open('../data/headers_obs.csv') as f:\n",
    "    obs_headers = f.readlines()[0].split()\n",
    "    \n",
    "mod_headers, obs_headers"
   ]
  },
  {
   "cell_type": "code",
   "execution_count": 42,
   "metadata": {},
   "outputs": [],
   "source": [
    "targets = pd.read_csv('../data/targets.csv')\n",
    "stations = pd.read_csv('../data/stations.csv')"
   ]
  },
  {
   "cell_type": "code",
   "execution_count": 43,
   "metadata": {},
   "outputs": [
    {
     "data": {
      "text/html": [
       "<div>\n",
       "<style>\n",
       "    .dataframe thead tr:only-child th {\n",
       "        text-align: right;\n",
       "    }\n",
       "\n",
       "    .dataframe thead th {\n",
       "        text-align: left;\n",
       "    }\n",
       "\n",
       "    .dataframe tbody tr th {\n",
       "        vertical-align: top;\n",
       "    }\n",
       "</style>\n",
       "<table border=\"1\" class=\"dataframe\">\n",
       "  <thead>\n",
       "    <tr style=\"text-align: right;\">\n",
       "      <th></th>\n",
       "      <th>date</th>\n",
       "      <th>station</th>\n",
       "      <th>target</th>\n",
       "    </tr>\n",
       "  </thead>\n",
       "  <tbody>\n",
       "    <tr>\n",
       "      <th>0</th>\n",
       "      <td>2015-01-03</td>\n",
       "      <td>ES0691A</td>\n",
       "      <td>0</td>\n",
       "    </tr>\n",
       "    <tr>\n",
       "      <th>1</th>\n",
       "      <td>2015-01-03</td>\n",
       "      <td>ES1396A</td>\n",
       "      <td>0</td>\n",
       "    </tr>\n",
       "    <tr>\n",
       "      <th>2</th>\n",
       "      <td>2015-01-03</td>\n",
       "      <td>ES1438A</td>\n",
       "      <td>0</td>\n",
       "    </tr>\n",
       "    <tr>\n",
       "      <th>3</th>\n",
       "      <td>2015-01-03</td>\n",
       "      <td>ES1480A</td>\n",
       "      <td>0</td>\n",
       "    </tr>\n",
       "    <tr>\n",
       "      <th>4</th>\n",
       "      <td>2015-01-03</td>\n",
       "      <td>ES1679A</td>\n",
       "      <td>0</td>\n",
       "    </tr>\n",
       "  </tbody>\n",
       "</table>\n",
       "</div>"
      ],
      "text/plain": [
       "         date  station  target\n",
       "0  2015-01-03  ES0691A       0\n",
       "1  2015-01-03  ES1396A       0\n",
       "2  2015-01-03  ES1438A       0\n",
       "3  2015-01-03  ES1480A       0\n",
       "4  2015-01-03  ES1679A       0"
      ]
     },
     "execution_count": 43,
     "metadata": {},
     "output_type": "execute_result"
    }
   ],
   "source": [
    "targets.head()"
   ]
  },
  {
   "cell_type": "code",
   "execution_count": 44,
   "metadata": {},
   "outputs": [
    {
     "data": {
      "text/html": [
       "<div>\n",
       "<style>\n",
       "    .dataframe thead tr:only-child th {\n",
       "        text-align: right;\n",
       "    }\n",
       "\n",
       "    .dataframe thead th {\n",
       "        text-align: left;\n",
       "    }\n",
       "\n",
       "    .dataframe tbody tr th {\n",
       "        vertical-align: top;\n",
       "    }\n",
       "</style>\n",
       "<table border=\"1\" class=\"dataframe\">\n",
       "  <thead>\n",
       "    <tr style=\"text-align: right;\">\n",
       "      <th></th>\n",
       "      <th>code</th>\n",
       "      <th>name</th>\n",
       "      <th>lat</th>\n",
       "      <th>lon</th>\n",
       "      <th>height</th>\n",
       "      <th>city</th>\n",
       "      <th>country</th>\n",
       "    </tr>\n",
       "  </thead>\n",
       "  <tbody>\n",
       "    <tr>\n",
       "      <th>0</th>\n",
       "      <td>ES1480A</td>\n",
       "      <td>Barcelona (Gràcia-Sant Gervasi)</td>\n",
       "      <td>41.3987</td>\n",
       "      <td>2.15339</td>\n",
       "      <td>57</td>\n",
       "      <td>Barcelona</td>\n",
       "      <td>España</td>\n",
       "    </tr>\n",
       "    <tr>\n",
       "      <th>1</th>\n",
       "      <td>ES1856A</td>\n",
       "      <td>Barcelona (Vall d'Hebron)</td>\n",
       "      <td>41.4261</td>\n",
       "      <td>2.14799</td>\n",
       "      <td>136</td>\n",
       "      <td>Barcelona</td>\n",
       "      <td>España</td>\n",
       "    </tr>\n",
       "    <tr>\n",
       "      <th>2</th>\n",
       "      <td>ES1679A</td>\n",
       "      <td>Ciutadella</td>\n",
       "      <td>41.3864</td>\n",
       "      <td>2.18742</td>\n",
       "      <td>7</td>\n",
       "      <td>Barcelona</td>\n",
       "      <td>España</td>\n",
       "    </tr>\n",
       "    <tr>\n",
       "      <th>3</th>\n",
       "      <td>ES1438A</td>\n",
       "      <td>Barcelona (Eixample)</td>\n",
       "      <td>41.3853</td>\n",
       "      <td>2.15382</td>\n",
       "      <td>26</td>\n",
       "      <td>Barcelona</td>\n",
       "      <td>España</td>\n",
       "    </tr>\n",
       "    <tr>\n",
       "      <th>4</th>\n",
       "      <td>ES1396A</td>\n",
       "      <td>Barcelona</td>\n",
       "      <td>41.3788</td>\n",
       "      <td>2.13310</td>\n",
       "      <td>35</td>\n",
       "      <td>Barcelona</td>\n",
       "      <td>España</td>\n",
       "    </tr>\n",
       "  </tbody>\n",
       "</table>\n",
       "</div>"
      ],
      "text/plain": [
       "      code                             name      lat      lon  height  \\\n",
       "0  ES1480A  Barcelona (Gràcia-Sant Gervasi)  41.3987  2.15339      57   \n",
       "1  ES1856A        Barcelona (Vall d'Hebron)  41.4261  2.14799     136   \n",
       "2  ES1679A                       Ciutadella  41.3864  2.18742       7   \n",
       "3  ES1438A             Barcelona (Eixample)  41.3853  2.15382      26   \n",
       "4  ES1396A                        Barcelona  41.3788  2.13310      35   \n",
       "\n",
       "        city country  \n",
       "0  Barcelona  España  \n",
       "1  Barcelona  España  \n",
       "2  Barcelona  España  \n",
       "3  Barcelona  España  \n",
       "4  Barcelona  España  "
      ]
     },
     "execution_count": 44,
     "metadata": {},
     "output_type": "execute_result"
    }
   ],
   "source": [
    "stations.head()"
   ]
  },
  {
   "cell_type": "code",
   "execution_count": null,
   "metadata": {
    "collapsed": true
   },
   "outputs": [],
   "source": []
  }
 ],
 "metadata": {
  "kernelspec": {
   "display_name": "Python 3",
   "language": "python3",
   "name": "python3"
  },
  "language_info": {
   "codemirror_mode": {
    "name": "ipython",
    "version": 3
   },
   "file_extension": ".py",
   "mimetype": "text/x-python",
   "name": "python",
   "nbconvert_exporter": "python",
   "pygments_lexer": "ipython3",
   "version": "3.6.2"
  }
 },
 "nbformat": 4,
 "nbformat_minor": 2
}
